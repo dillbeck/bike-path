{
 "cells": [
  {
   "cell_type": "markdown",
   "metadata": {},
   "source": [
    "# DSCI 521: Data Analysis and Interpretation <br> Term Project Phase 1: Scoping an analytics project"
   ]
  },
  {
   "cell_type": "markdown",
   "metadata": {},
   "source": [
    "## Project Title??\n",
    "\n",
    "## Team Members\n",
    "\n",
    "\n",
    "### Stephanie Dillbeck, Michelle Ibarrra, Zexi Yu. \n",
    "\n",
    "\n",
    "__Stephanie Dillbeck__ I am currently focused on database management and big data with an interest in cybersecurity as well as HCI.  I have a solid background in SQL, with some experience in HTML, Javascript and Java.  I’m interested in gaining a solid foundation in Python and basic statistical analysis. \n",
    "\n",
    "__Michelle Ibarra:__ Presently, I have practical experience in Agile software development, project management, and IT consulting. Technologies use include AWS GovCloud, Cloud Foundry, HTML, CSS, Javascript, SQL, and now Python. I would like learn and gain more experience with processing, analyzing, and visualizing data.\n",
    "\n",
    "__Zexi Yu:__ I am presently focused on the area of machine learning with knowledge of common algorithms and skills mostly in image processing using python on platforms of Tensorflow and Keras. And I would like to grow more into the computer vision area and gain more data analysis skills."
   ]
  },
  {
   "cell_type": "markdown",
   "metadata": {},
   "source": [
    "## Project Domain\n",
    "\n",
    "For our project, we would like our analyze transportation data in the United States. The transportation sector is immense, where data may be analyze by respect to the mode of transportation, geographic location, emissions, age or driver or rider, infrastructure (e.g. bike lanes, pedestrian sidewalks), ridesharing, safety, and more. Over the past several years and even decades, electric vehicles, ridesharing, and population migration patterns have impacted the transportation sector provide ample problems or trends waiting to be discovered. For instance, the social conscious to protect the quality of air and reduce national dependency of foreign oil has been cited as a boon to electric vehicle industry. Also, one could consider how population migration patterns have impacted the sale or ownership of vehicles to ridesharing. Lastly, one could also evaluate how are cities, regions or states are adjusting their transportation budgets in response to those changes to using alternate modes of transportation.  "
   ]
  },
  {
   "cell_type": "markdown",
   "metadata": {},
   "source": [
    "## Analytic Tools\n",
    "\n",
    "__Data cleaning:__ excel, python, pandas, numpy\n",
    "\n",
    "__Data visualization:__ matplotlib, bokeh, seaborn\n",
    "\n",
    "__Data analysis:__ sklearn\n"
   ]
  },
  {
   "cell_type": "markdown",
   "metadata": {},
   "source": [
    "## Exploration of Dataset - Analysis\n",
    "Analyses from dataset(s) explored (e.g. kaggle, other areas?) \n"
   ]
  },
  {
   "cell_type": "markdown",
   "metadata": {},
   "source": [
    "## Audience\n",
    "Our data analysis will potentially have different applications for different stakeholder groups.  Public interest groups or nonprofits may have an interest in our data on bike-share usage  to focus their efforts and further their mission, as well as engage supporters in the community.  Local and state municipalities may use our data to help with infrastructure planning, as well as citizen engagement and social responsibility. Existing businesses may use the data to support employee-engagement and work/life balance efforts, as well as from within their social responsibility platform.  Finally, entrepreneurs and start-up business may leverage the data to identify new markets or develop new-to-market products or concepts.\n",
    "\n",
    "\n",
    "## Application\n",
    "At present, the goal for our analysis will be to construct a prediction model for the Capital Bikeshare System in Washington, D.C.  As the analysis will take into consideration such things as bike usage, membership, weather, air quality, and holidays, the model created will potentially have application beyond the local environment of Washington, D.C. once these factors are adjusted for a new location.  The prediction model could support business decision, infrastructure planning, and community involvement, as well as present new opportunities for products or business concepts.\n",
    "\n",
    "\n",
    "## Presentation\n",
    "The project will be presented in the form a of a Jupyter Notebook with background information, discussion and code examples for reproducible results.  "
   ]
  },
  {
   "cell_type": "markdown",
   "metadata": {},
   "source": [
    "## Limits and Improvements\n",
    "\n",
    "## Continued Analysis\n"
   ]
  },
  {
   "cell_type": "code",
   "execution_count": null,
   "metadata": {},
   "outputs": [],
   "source": []
  }
 ],
 "metadata": {
  "kernelspec": {
   "display_name": "Python 3",
   "language": "python",
   "name": "python3"
  },
  "language_info": {
   "codemirror_mode": {
    "name": "ipython",
    "version": 3
   },
   "file_extension": ".py",
   "mimetype": "text/x-python",
   "name": "python",
   "nbconvert_exporter": "python",
   "pygments_lexer": "ipython3",
   "version": "3.7.3"
  }
 },
 "nbformat": 4,
 "nbformat_minor": 2
}
