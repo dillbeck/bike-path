{
 "cells": [
  {
   "cell_type": "markdown",
   "metadata": {},
   "source": [
    "# Project Title: Bikeshare Demand Prediction\n",
    "DSCI 521: Data Analysis and Interpretation <br> Summer Term - July 28, 2019 <br> Term Project Phase 1: Scoping an analytics project <br> __Team Members: Stephanie Dillbeck, Christopher Spencer, Zexi Yu__ \n",
    "\n",
    "\n",
    "## Team Background\n",
    "\n",
    "\n",
    "__Stephanie Dillbeck:__ I am currently focused on database management and big data with an interest in cybersecurity as well as HCI.  I have a solid background in SQL, with some experience in HTML, Javascript and Java.  I’m interested in gaining a solid foundation in Python and basic statistical analysis. \n",
    "\n",
    "__Christopher Spencer:__ With a background in Mechanical Engineering and transitioning into Aerospace Systems Engineering, I have experience in both mathematics and statistics with a primary focus on computational mechanics. While new to Python in particular, there is definite overlap with my past programming experiences.\n",
    "\n",
    "__Zexi Yu:__ I am presently focused on the area of machine learning with knowledge of common algorithms and skills mostly in image processing using python on platforms of Tensorflow and Keras. And I would like to grow more into the computer vision area and gain more data analysis skills."
   ]
  },
  {
   "cell_type": "markdown",
   "metadata": {},
   "source": [
    "## Project Domain\n",
    "\n",
    "For our project, we would like our analyze transportation data in the United States. The transportation sector is immense, where data may be analyze with respect to the mode of transportation, geographic location, emissions, age of driver or rider, infrastructure (e.g. bike lanes, pedestrian sidewalks), ridesharing, safety, and more. Over the past several years and even decades, electric vehicles, ridesharing, and population migration patterns that have impacted the transportation sector provide ample problems or trends waiting to be discovered. For instance, the social conscious to protect the quality of air and reduce national dependency of foreign oil has been cited as a boon to electric vehicle industry. Also, one could consider how population migration patterns have impacted the sale or ownership of vehicles to ridesharing. Lastly, one could also evaluate how are cities, regions or states are adjusting their transportation budgets in response to those changes to using alternate modes of transportation.  \n",
    "\n",
    "As we explored possible datasets within the broad category of transportation, our group quickly scoped down our focus to the the subdomain of of Bicycle Transportation.  With strong personal interest and an abundance of quality datasets, we further narrowed our topic to the Bike Sharing in Washington D.C. Dataset found on Kaggle.com.  This dataset provides a count of bikes rented in the Capital Bikeshare system, along with associated date/time, weather/conditions, and holiday data for a two-year period.  Our initial exploration will look at the features of the data to determine which features have the most impact on rental demand."
   ]
  },
  {
   "cell_type": "markdown",
   "metadata": {},
   "source": [
    "## Analytic Tools\n",
    "\n",
    "__Data cleaning:__ excel, python, pandas, numpy\n",
    "\n",
    "__Data visualization:__ matplotlib, bokeh, seaborn\n",
    "\n",
    "__Data analysis:__ sklearn\n"
   ]
  },
  {
   "cell_type": "markdown",
   "metadata": {},
   "source": [
    "## Analysis and Exploration of Dataset\n",
    "In choosing a dataset we explored numerous datasets of bike usage data throughout the country and even internationally.  There were many pre-processed datasets available, including some with overall bike lane usage counts, journey durations, routes, bike-related incidents, as well as biker demographics, but the most rich data sources seemed to originate from the formalized bikeshare systems within major citites or regions.  The Capital Bikeshare dataset was particularly attractive because it already included weather and condition data, as well workday/weekend/holiday information.\n",
    "\n",
    "#### The visual analysis and exploration phase of our chosen dataset is included here: <br> [Phase 1 Exploration and Analysis](phase-1.ipynb).\n"
   ]
  },
  {
   "cell_type": "markdown",
   "metadata": {},
   "source": [
    "## Audience\n",
    "Our data analysis will potentially have different applications for different stakeholder groups.  Public interest groups or nonprofits may have an interest in our data on bike-share usage  to focus their efforts and further their specific missions, as well as engage supporters in the community.  Local and state municipalities may use our data to help with infrastructure planning, as well as citizen engagement and social responsibility. Existing businesses may use the data to support employee-engagement and work/life balance efforts, as well as from within their social responsibility platform.  Finally, entrepreneurs and start-up business may leverage the data to identify new markets or develop new-to-market products or concepts.\n",
    "\n",
    "\n",
    "## Application\n",
    "At present, the goal for our analysis will be to construct a prediction model for the Capital Bikeshare System in Washington, D.C.  As the analysis will take into consideration such things as bike usage, membership, weather, air quality, and holidays, the model created will potentially have application beyond the local environment of Washington, D.C. once these factors are adjusted for in a new location.  The prediction model could support business decisions, infrastructure planning, maintenance schedules and community involvement, as well as present new opportunities for products or business concepts.  As the project will be presented in the form a of a Jupyter Notebook that contains background information, discussion and code for reproducible results, different stakeholder groups can utilize the prediction model in a way that suits their mission and needs, as well as adapt it to other applications. \n"
   ]
  },
  {
   "cell_type": "markdown",
   "metadata": {},
   "source": [
    "## Limits and Improvements\n",
    "If we use linear regression to build our prediction model, in order to improve the prediction accuracy, we may want to do some feature crosses. For example, we could combine weather and season and build a new feature. However, the performance may be limited if we just randomly combine them. In this case, we can apply different feature selection models and make comparisons between them. We can keep tuning the model until we achieve an optimal accuracy.\n",
    "\n",
    "## Continued Analysis\n",
    "From the result of data visulization above, we can draw some conclusions for continued analysis:\n",
    "- The datetime column need to be split into multiple features, including year, month, date, and hour\n",
    "- All columns need to be standardized before creating the feature vectors\n",
    "- The atemp column can be dropped due to its high correlation coefficient with temp\n",
    "- The demands for casual users and for registered users need to be predicted seperately \n",
    "- The outliers need to be removed before creating the feature vectors for hours and workingday\n",
    "- The column windspeed can be dropped due to low correlation coefficient with demand\n"
   ]
  },
  {
   "cell_type": "code",
   "execution_count": null,
   "metadata": {},
   "outputs": [],
   "source": []
  }
 ],
 "metadata": {
  "kernelspec": {
   "display_name": "Python 3",
   "language": "python",
   "name": "python3"
  },
  "language_info": {
   "codemirror_mode": {
    "name": "ipython",
    "version": 3
   },
   "file_extension": ".py",
   "mimetype": "text/x-python",
   "name": "python",
   "nbconvert_exporter": "python",
   "pygments_lexer": "ipython3",
   "version": "3.7.3"
  }
 },
 "nbformat": 4,
 "nbformat_minor": 2
}
